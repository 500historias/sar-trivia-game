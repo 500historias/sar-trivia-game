{
 "cells": [
  {
   "cell_type": "code",
   "execution_count": 1,
   "metadata": {},
   "outputs": [],
   "source": [
    "import sqlite3\n",
    "import pandas as pd\n",
    "import os"
   ]
  },
  {
   "cell_type": "code",
   "execution_count": 2,
   "metadata": {},
   "outputs": [],
   "source": [
    "def drop_table_question (conn):\n",
    "    cur = conn.cursor()\n",
    "    # Execute the DROP TABLE command\n",
    "    cur.execute('DROP TABLE IF EXISTS question')\n",
    "    # Commit changes and close connection\n",
    "    conn.commit()   "
   ]
  },
  {
   "cell_type": "code",
   "execution_count": 3,
   "metadata": {},
   "outputs": [],
   "source": [
    "def drop_table_user (conn):\n",
    "    cur = conn.cursor()\n",
    "    # Execute the DROP TABLE command\n",
    "    cur.execute('DROP TABLE IF EXISTS user')\n",
    "    # Commit changes and close connection\n",
    "    conn.commit()"
   ]
  },
  {
   "cell_type": "code",
   "execution_count": 4,
   "metadata": {},
   "outputs": [],
   "source": [
    "def drop_table_qest_users (conn):\n",
    "    cur = conn.cursor()\n",
    "    # Execute the DROP TABLE command\n",
    "    cur.execute('DROP TABLE IF EXISTS quest_users')\n",
    "    # Commit changes and close connection\n",
    "    conn.commit()"
   ]
  },
  {
   "cell_type": "code",
   "execution_count": 5,
   "metadata": {},
   "outputs": [],
   "source": [
    "def create_table_question (conn):\n",
    "    cur = conn.cursor()\n",
    "    # Execute the CREATE TABLE command\n",
    "    cur.execute('''\n",
    "    CREATE TABLE question (\n",
    "        q_id INTEGER PRIMARY KEY,\n",
    "        text TEXT,\n",
    "        op_correct TEXT,\n",
    "        op2 TEXT,\n",
    "        op3 TEXT,\n",
    "        op4 TEXT,\n",
    "        category TEXT,\n",
    "        diff INTEGER)\n",
    "    ''')\n",
    "    # Commit changes and close connection\n",
    "    conn.commit()  "
   ]
  },
  {
   "cell_type": "code",
   "execution_count": 6,
   "metadata": {},
   "outputs": [],
   "source": [
    "def create_table_user (conn):\n",
    "    cur = conn.cursor()\n",
    "    # Execute the CREATE TABLE command\n",
    "    cur.execute('''\n",
    "    CREATE TABLE user (\n",
    "        u_id INTEGER PRIMARY KEY,\n",
    "        level INTEGER)\n",
    "    ''')\n",
    "    # Commit changes and close connection\n",
    "    conn.commit() "
   ]
  },
  {
   "cell_type": "code",
   "execution_count": 7,
   "metadata": {},
   "outputs": [],
   "source": [
    "def create_table_qest_users (conn):\n",
    "    cur = conn.cursor()\n",
    "    # Execute the CREATE TABLE command\n",
    "    cur.execute('''\n",
    "    CREATE TABLE quest_users (\n",
    "        q_id INTEGER,\n",
    "        u_id INTEGER,\n",
    "        timestamp TIMESTAMP DEFAULT CURRENT_TIMESTAMP,\n",
    "        result BOOLEAN,\n",
    "        PRIMARY KEY (q_id),\n",
    "        FOREIGN KEY (q_id) REFERENCES question(q_id),\n",
    "        FOREIGN KEY (u_id) REFERENCES user(u_id))\n",
    "    ''')\n",
    "    # Commit changes and close connection\n",
    "    conn.commit() "
   ]
  },
  {
   "cell_type": "code",
   "execution_count": 16,
   "metadata": {},
   "outputs": [],
   "source": [
    "# Create a connection to an SQLite database\n",
    "conn = sqlite3.connect('trivia_game.db')\n",
    "# drop_table_question(conn)\n",
    "drop_table_user (conn)\n",
    "drop_table_qest_users (conn)"
   ]
  },
  {
   "cell_type": "code",
   "execution_count": 17,
   "metadata": {},
   "outputs": [],
   "source": [
    "# create_table_question(conn)\n",
    "create_table_user(conn)\n",
    "create_table_qest_users (conn)"
   ]
  },
  {
   "cell_type": "code",
   "execution_count": 10,
   "metadata": {},
   "outputs": [],
   "source": [
    "# Get the current working directory\n",
    "current_directory = os.getcwd()\n",
    "# Navigate to the parent directory\n",
    "parent_directory = os.path.dirname(current_directory)\n",
    "# Specify the relative path to the CSV file\n",
    "file_path = os.path.join(parent_directory, 'preguntas_ordenadas.csv')"
   ]
  },
  {
   "cell_type": "code",
   "execution_count": 11,
   "metadata": {},
   "outputs": [],
   "source": [
    "df = pd.read_csv(file_path)"
   ]
  },
  {
   "cell_type": "code",
   "execution_count": 12,
   "metadata": {},
   "outputs": [
    {
     "data": {
      "text/plain": [
       "120"
      ]
     },
     "execution_count": 12,
     "metadata": {},
     "output_type": "execute_result"
    }
   ],
   "source": [
    "# Insert DataFrame data into the table\n",
    "df.to_sql('question', conn, if_exists='append', index=False) # Use 'append' to add to an existing table"
   ]
  },
  {
   "cell_type": "code",
   "execution_count": 13,
   "metadata": {},
   "outputs": [],
   "source": [
    "df_verification = pd.read_sql('SELECT * FROM question', conn)\n",
    "# print(df_verification)"
   ]
  },
  {
   "cell_type": "code",
   "execution_count": 14,
   "metadata": {},
   "outputs": [],
   "source": [
    "# Close the connection to the SQLite database\n",
    "conn.close()"
   ]
  },
  {
   "cell_type": "code",
   "execution_count": null,
   "metadata": {},
   "outputs": [],
   "source": []
  }
 ],
 "metadata": {
  "kernelspec": {
   "display_name": "Python 3",
   "language": "python",
   "name": "python3"
  },
  "language_info": {
   "codemirror_mode": {
    "name": "ipython",
    "version": 3
   },
   "file_extension": ".py",
   "mimetype": "text/x-python",
   "name": "python",
   "nbconvert_exporter": "python",
   "pygments_lexer": "ipython3",
   "version": "3.11.4"
  },
  "orig_nbformat": 4
 },
 "nbformat": 4,
 "nbformat_minor": 2
}
